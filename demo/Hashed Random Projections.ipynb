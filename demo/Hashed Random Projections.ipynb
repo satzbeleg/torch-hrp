{
 "cells": [
  {
   "cell_type": "code",
   "execution_count": 1,
   "id": "414dbad4-cdc1-4c28-a94d-df49d9f03202",
   "metadata": {
    "tags": []
   },
   "outputs": [],
   "source": [
    "%load_ext autoreload\n",
    "%autoreload 2"
   ]
  },
  {
   "cell_type": "code",
   "execution_count": 2,
   "id": "3cfc3a28-2350-4fb9-b397-69b5c647ff94",
   "metadata": {
    "tags": []
   },
   "outputs": [],
   "source": [
    "import sys\n",
    "sys.path.append('..')"
   ]
  },
  {
   "cell_type": "code",
   "execution_count": 3,
   "id": "21c651ff-85d6-48ae-979c-d4c2f1fee66b",
   "metadata": {
    "tags": []
   },
   "outputs": [],
   "source": [
    "%%capture\n",
    "import torch_hrp as thrp\n",
    "import torch"
   ]
  },
  {
   "cell_type": "code",
   "execution_count": 4,
   "id": "90128406-d191-47e2-9e42-932d28b12c42",
   "metadata": {
    "tags": []
   },
   "outputs": [],
   "source": [
    "BATCH_SIZE = 32\n",
    "NUM_FEATURES = 64\n",
    "OUTPUT_SIZE = 1024\n",
    "\n",
    "# demo inputs\n",
    "inputs = torch.randn(size=(BATCH_SIZE, NUM_FEATURES))\n",
    "\n",
    "# instantiate layer \n",
    "layer = thrp.HashedRandomProjection(\n",
    "    output_size=OUTPUT_SIZE,\n",
    "    input_size=NUM_FEATURES,\n",
    "    random_state=42   # Default: 42\n",
    ")\n",
    "\n",
    "# run it\n",
    "outputs = layer(inputs)\n",
    "assert outputs.shape == (BATCH_SIZE, OUTPUT_SIZE)"
   ]
  },
  {
   "cell_type": "code",
   "execution_count": 5,
   "id": "a68b3203-f2f6-4840-9a48-d732a2e4280b",
   "metadata": {
    "tags": []
   },
   "outputs": [],
   "source": [
    "BATCH_SIZE = 32\n",
    "NUM_FEATURES = 64\n",
    "OUTPUT_SIZE = 1024\n",
    "\n",
    "# demo inputs\n",
    "inputs = torch.randn(size=(BATCH_SIZE, NUM_FEATURES))\n",
    "\n",
    "# use an existing hyperplane\n",
    "myhyperplane = torch.randn(size=(NUM_FEATURES, OUTPUT_SIZE))\n",
    "\n",
    "# init layer\n",
    "layer = thrp.HashedRandomProjection(hyperplane=myhyperplane)\n",
    "\n",
    "# run it\n",
    "outputs = layer(inputs)\n",
    "assert outputs.shape == (BATCH_SIZE, OUTPUT_SIZE)"
   ]
  }
 ],
 "metadata": {
  "kernelspec": {
   "display_name": "Python 3 (ipykernel)",
   "language": "python",
   "name": "python3"
  },
  "language_info": {
   "codemirror_mode": {
    "name": "ipython",
    "version": 3
   },
   "file_extension": ".py",
   "mimetype": "text/x-python",
   "name": "python",
   "nbconvert_exporter": "python",
   "pygments_lexer": "ipython3",
   "version": "3.10.6"
  }
 },
 "nbformat": 4,
 "nbformat_minor": 5
}
